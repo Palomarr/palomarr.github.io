{
 "cells": [
  {
   "cell_type": "markdown",
   "metadata": {},
   "source": [
    "# Deep Music Genre Classification\n",
    "\n",
    "This notebook demonstrates a neural network approach to classifying music genres based on song lyrics and engineered features. We'll create three different models:\n",
    "\n",
    "1. A model that uses only the lyrics to classify genres\n",
    "2. A model that uses only engineered features\n",
    "3. A combined model that uses both lyrics and engineered features\n",
    "\n",
    "Finally, we'll analyze the word embeddings learned by our models to uncover interesting patterns in how different genres are represented in the vector space."
   ]
  },
  {
   "cell_type": "markdown",
   "metadata": {},
   "source": [
    "## 1. Importing Libraries and Loading Data"
   ]
  },
  {
   "cell_type": "code",
   "execution_count": 88,
   "metadata": {},
   "outputs": [],
   "source": [
    "import pandas as pd\n",
    "import numpy as np\n",
    "import matplotlib.pyplot as plt\n",
    "import seaborn as sns\n",
    "import torch\n",
    "from torch import nn\n",
    "from torch.utils.data import Dataset, DataLoader\n",
    "from sklearn.model_selection import train_test_split\n",
    "from sklearn.preprocessing import StandardScaler\n",
    "from collections import Counter\n",
    "import time\n",
    "import re\n",
    "from transformers import BertTokenizer\n",
    "import plotly.express as px\n",
    "import plotly.io as pio\n",
    "from sklearn.decomposition import PCA\n",
    "\n",
    "# Set default Plotly template\n",
    "pio.templates.default = \"plotly_white\"\n",
    "\n",
    "device = torch.device(\"cuda\" if torch.cuda.is_available() else \"cpu\")"
   ]
  },
  {
   "cell_type": "code",
   "execution_count": 89,
   "metadata": {},
   "outputs": [
    {
     "data": {
      "text/html": [
       "<div>\n",
       "<style scoped>\n",
       "    .dataframe tbody tr th:only-of-type {\n",
       "        vertical-align: middle;\n",
       "    }\n",
       "\n",
       "    .dataframe tbody tr th {\n",
       "        vertical-align: top;\n",
       "    }\n",
       "\n",
       "    .dataframe thead th {\n",
       "        text-align: right;\n",
       "    }\n",
       "</style>\n",
       "<table border=\"1\" class=\"dataframe\">\n",
       "  <thead>\n",
       "    <tr style=\"text-align: right;\">\n",
       "      <th></th>\n",
       "      <th>Unnamed: 0</th>\n",
       "      <th>artist_name</th>\n",
       "      <th>track_name</th>\n",
       "      <th>release_date</th>\n",
       "      <th>genre</th>\n",
       "      <th>lyrics</th>\n",
       "      <th>len</th>\n",
       "      <th>dating</th>\n",
       "      <th>violence</th>\n",
       "      <th>world/life</th>\n",
       "      <th>...</th>\n",
       "      <th>sadness</th>\n",
       "      <th>feelings</th>\n",
       "      <th>danceability</th>\n",
       "      <th>loudness</th>\n",
       "      <th>acousticness</th>\n",
       "      <th>instrumentalness</th>\n",
       "      <th>valence</th>\n",
       "      <th>energy</th>\n",
       "      <th>topic</th>\n",
       "      <th>age</th>\n",
       "    </tr>\n",
       "  </thead>\n",
       "  <tbody>\n",
       "    <tr>\n",
       "      <th>0</th>\n",
       "      <td>0</td>\n",
       "      <td>mukesh</td>\n",
       "      <td>mohabbat bhi jhoothi</td>\n",
       "      <td>1950</td>\n",
       "      <td>pop</td>\n",
       "      <td>hold time feel break feel untrue convince spea...</td>\n",
       "      <td>95</td>\n",
       "      <td>0.000598</td>\n",
       "      <td>0.063746</td>\n",
       "      <td>0.000598</td>\n",
       "      <td>...</td>\n",
       "      <td>0.380299</td>\n",
       "      <td>0.117175</td>\n",
       "      <td>0.357739</td>\n",
       "      <td>0.454119</td>\n",
       "      <td>0.997992</td>\n",
       "      <td>0.901822</td>\n",
       "      <td>0.339448</td>\n",
       "      <td>0.137110</td>\n",
       "      <td>sadness</td>\n",
       "      <td>1.0</td>\n",
       "    </tr>\n",
       "    <tr>\n",
       "      <th>1</th>\n",
       "      <td>4</td>\n",
       "      <td>frankie laine</td>\n",
       "      <td>i believe</td>\n",
       "      <td>1950</td>\n",
       "      <td>pop</td>\n",
       "      <td>believe drop rain fall grow believe darkest ni...</td>\n",
       "      <td>51</td>\n",
       "      <td>0.035537</td>\n",
       "      <td>0.096777</td>\n",
       "      <td>0.443435</td>\n",
       "      <td>...</td>\n",
       "      <td>0.001284</td>\n",
       "      <td>0.001284</td>\n",
       "      <td>0.331745</td>\n",
       "      <td>0.647540</td>\n",
       "      <td>0.954819</td>\n",
       "      <td>0.000002</td>\n",
       "      <td>0.325021</td>\n",
       "      <td>0.263240</td>\n",
       "      <td>world/life</td>\n",
       "      <td>1.0</td>\n",
       "    </tr>\n",
       "    <tr>\n",
       "      <th>2</th>\n",
       "      <td>6</td>\n",
       "      <td>johnnie ray</td>\n",
       "      <td>cry</td>\n",
       "      <td>1950</td>\n",
       "      <td>pop</td>\n",
       "      <td>sweetheart send letter goodbye secret feel bet...</td>\n",
       "      <td>24</td>\n",
       "      <td>0.002770</td>\n",
       "      <td>0.002770</td>\n",
       "      <td>0.002770</td>\n",
       "      <td>...</td>\n",
       "      <td>0.002770</td>\n",
       "      <td>0.225422</td>\n",
       "      <td>0.456298</td>\n",
       "      <td>0.585288</td>\n",
       "      <td>0.840361</td>\n",
       "      <td>0.000000</td>\n",
       "      <td>0.351814</td>\n",
       "      <td>0.139112</td>\n",
       "      <td>music</td>\n",
       "      <td>1.0</td>\n",
       "    </tr>\n",
       "    <tr>\n",
       "      <th>3</th>\n",
       "      <td>10</td>\n",
       "      <td>pérez prado</td>\n",
       "      <td>patricia</td>\n",
       "      <td>1950</td>\n",
       "      <td>pop</td>\n",
       "      <td>kiss lips want stroll charm mambo chacha merin...</td>\n",
       "      <td>54</td>\n",
       "      <td>0.048249</td>\n",
       "      <td>0.001548</td>\n",
       "      <td>0.001548</td>\n",
       "      <td>...</td>\n",
       "      <td>0.225889</td>\n",
       "      <td>0.001548</td>\n",
       "      <td>0.686992</td>\n",
       "      <td>0.744404</td>\n",
       "      <td>0.083935</td>\n",
       "      <td>0.199393</td>\n",
       "      <td>0.775350</td>\n",
       "      <td>0.743736</td>\n",
       "      <td>romantic</td>\n",
       "      <td>1.0</td>\n",
       "    </tr>\n",
       "    <tr>\n",
       "      <th>4</th>\n",
       "      <td>12</td>\n",
       "      <td>giorgos papadopoulos</td>\n",
       "      <td>apopse eida oneiro</td>\n",
       "      <td>1950</td>\n",
       "      <td>pop</td>\n",
       "      <td>till darling till matter know till dream live ...</td>\n",
       "      <td>48</td>\n",
       "      <td>0.001350</td>\n",
       "      <td>0.001350</td>\n",
       "      <td>0.417772</td>\n",
       "      <td>...</td>\n",
       "      <td>0.068800</td>\n",
       "      <td>0.001350</td>\n",
       "      <td>0.291671</td>\n",
       "      <td>0.646489</td>\n",
       "      <td>0.975904</td>\n",
       "      <td>0.000246</td>\n",
       "      <td>0.597073</td>\n",
       "      <td>0.394375</td>\n",
       "      <td>romantic</td>\n",
       "      <td>1.0</td>\n",
       "    </tr>\n",
       "  </tbody>\n",
       "</table>\n",
       "<p>5 rows × 31 columns</p>\n",
       "</div>"
      ],
      "text/plain": [
       "   Unnamed: 0           artist_name            track_name  release_date genre  \\\n",
       "0           0                mukesh  mohabbat bhi jhoothi          1950   pop   \n",
       "1           4         frankie laine             i believe          1950   pop   \n",
       "2           6           johnnie ray                   cry          1950   pop   \n",
       "3          10           pérez prado              patricia          1950   pop   \n",
       "4          12  giorgos papadopoulos    apopse eida oneiro          1950   pop   \n",
       "\n",
       "                                              lyrics  len    dating  violence  \\\n",
       "0  hold time feel break feel untrue convince spea...   95  0.000598  0.063746   \n",
       "1  believe drop rain fall grow believe darkest ni...   51  0.035537  0.096777   \n",
       "2  sweetheart send letter goodbye secret feel bet...   24  0.002770  0.002770   \n",
       "3  kiss lips want stroll charm mambo chacha merin...   54  0.048249  0.001548   \n",
       "4  till darling till matter know till dream live ...   48  0.001350  0.001350   \n",
       "\n",
       "   world/life  ...   sadness  feelings  danceability  loudness  acousticness  \\\n",
       "0    0.000598  ...  0.380299  0.117175      0.357739  0.454119      0.997992   \n",
       "1    0.443435  ...  0.001284  0.001284      0.331745  0.647540      0.954819   \n",
       "2    0.002770  ...  0.002770  0.225422      0.456298  0.585288      0.840361   \n",
       "3    0.001548  ...  0.225889  0.001548      0.686992  0.744404      0.083935   \n",
       "4    0.417772  ...  0.068800  0.001350      0.291671  0.646489      0.975904   \n",
       "\n",
       "   instrumentalness   valence    energy       topic  age  \n",
       "0          0.901822  0.339448  0.137110     sadness  1.0  \n",
       "1          0.000002  0.325021  0.263240  world/life  1.0  \n",
       "2          0.000000  0.351814  0.139112       music  1.0  \n",
       "3          0.199393  0.775350  0.743736    romantic  1.0  \n",
       "4          0.000246  0.597073  0.394375    romantic  1.0  \n",
       "\n",
       "[5 rows x 31 columns]"
      ]
     },
     "execution_count": 89,
     "metadata": {},
     "output_type": "execute_result"
    }
   ],
   "source": [
    "# Load the data\n",
    "url = \"https://raw.githubusercontent.com/PhilChodrow/PIC16B/master/datasets/tcc_ceds_music.csv\"\n",
    "df = pd.read_csv(url)\n",
    "df.head()"
   ]
  },
  {
   "cell_type": "markdown",
   "metadata": {},
   "source": [
    "### Data Preprocessing\n",
    "\n",
    "Let's prepare our data for training by tokenizing lyrics, preparing engineered features, and performing train-validation split."
   ]
  },
  {
   "cell_type": "code",
   "execution_count": 90,
   "metadata": {},
   "outputs": [],
   "source": [
    "# List of engineered features\n",
    "engineered_features = ['dating', 'violence', 'world/life', 'night/time',\n",
    "                       'shake the audience','family/gospel', 'romantic',\n",
    "                        'communication','obscene', 'music', 'movement/places',\n",
    "                        'light/visual perceptions','family/spiritual', 'like/girls',\n",
    "                        'sadness', 'feelings', 'danceability','loudness',\n",
    "                        'acousticness', 'instrumentalness', 'valence', 'energy'] \n",
    "\n",
    "# Map genres to indices\n",
    "genres = df['genre'].unique()\n",
    "genre_to_idx = {genre: idx for idx, genre in enumerate(genres)}\n",
    "df['genre_idx'] = df['genre'].map(genre_to_idx)\n",
    "# Initialize tokenizer\n",
    "tokenizer = BertTokenizer.from_pretrained(\"google-bert/bert-base-uncased\")"
   ]
  },
  {
   "cell_type": "markdown",
   "metadata": {},
   "source": [
    "We split the data into training and validation sets. To establish a baseline for model performance, we calculate the base rate."
   ]
  },
  {
   "cell_type": "code",
   "execution_count": 91,
   "metadata": {},
   "outputs": [
    {
     "name": "stdout",
     "output_type": "stream",
     "text": [
      "Most common genre: pop\n",
      "Base rate (accuracy if always predicting most common class): 0.2482\n"
     ]
    }
   ],
   "source": [
    "df_train, df_val = train_test_split(df, test_size=0.2, random_state=42, stratify=df['genre_idx'])\n",
    "most_common_genre = df_train['genre'].value_counts().idxmax()\n",
    "most_common_count = df_train['genre'].value_counts().max()\n",
    "base_rate = most_common_count / len(df_train)\n",
    "\n",
    "print(f\"Most common genre: {most_common_genre}\")\n",
    "print(f\"Base rate (accuracy if always predicting most common class): {base_rate:.4f}\")"
   ]
  },
  {
   "cell_type": "markdown",
   "metadata": {},
   "source": [
    "### Creating the Dataset Class"
   ]
  },
  {
   "cell_type": "markdown",
   "metadata": {},
   "source": [
    "We implement a custom PyTorch Dataset class that handles both lyrics and engineered features, applying standardization to the numerical features."
   ]
  },
  {
   "cell_type": "code",
   "execution_count": 92,
   "metadata": {},
   "outputs": [],
   "source": [
    "# Function to pad sequences to a fixed length\n",
    "def pad(l, max_len):\n",
    "    if len(l) > max_len:\n",
    "        return l[:max_len]  # Truncate if too long\n",
    "    else:\n",
    "        to_add = max_len - len(l)\n",
    "        return l + [0]*to_add  # Pad if too short\n",
    "\n",
    "def preprocess(df, tokenizer, max_len=50):\n",
    "    X = tokenizer(list(df[\"lyrics\"]))[\"input_ids\"]\n",
    "    X = [pad(t, max_len) for t in X]\n",
    "    y = list(df[\"genre_idx\"])\n",
    "    return X, y\n",
    "\n",
    "class MusicDataset(Dataset):\n",
    "    def __init__(self, dataframe, tokenizer, max_len=256, feature_columns=None):\n",
    "        self.dataframe = dataframe\n",
    "        self.tokenizer = tokenizer\n",
    "        self.max_len = max_len\n",
    "        self.feature_columns = feature_columns if feature_columns else []\n",
    "        \n",
    "        # Preprocess lyrics and labels\n",
    "        self.X, self.y = preprocess(dataframe, tokenizer, max_len)\n",
    "        \n",
    "        # Standardize engineered features\n",
    "        if len(self.feature_columns) > 0:\n",
    "            self.features = dataframe[self.feature_columns].fillna(0).values\n",
    "            self.scaler = StandardScaler()\n",
    "            self.features = self.scaler.fit_transform(self.features)\n",
    "        else:\n",
    "            self.features = None\n",
    "        \n",
    "    def __len__(self):\n",
    "        return len(self.y)\n",
    "    \n",
    "    def __getitem__(self, idx):\n",
    "        lyrics = torch.tensor(self.X[idx])\n",
    "        \n",
    "        if self.features is not None:\n",
    "            features = torch.tensor(self.features[idx], dtype=torch.float32)\n",
    "            # Return both lyrics and features as a tuple, along with the label\n",
    "            return (lyrics, features), self.y[idx]\n",
    "        else:\n",
    "            # Return just lyrics and label\n",
    "            return lyrics, self.y[idx]"
   ]
  },
  {
   "cell_type": "markdown",
   "metadata": {},
   "source": [
    "We define the collate function for `DataLoader`."
   ]
  },
  {
   "cell_type": "code",
   "execution_count": 93,
   "metadata": {},
   "outputs": [],
   "source": [
    "def collate(data):\n",
    "    # For combined model (lyrics + features)\n",
    "    if isinstance(data[0][0], tuple):\n",
    "        # Unpack lyrics and features\n",
    "        lyrics = torch.stack([d[0][0] for d in data])\n",
    "        features = torch.stack([d[0][1] for d in data])\n",
    "        # Stack labels\n",
    "        labels = torch.tensor([d[1] for d in data])\n",
    "        return (lyrics, features), labels\n",
    "    # For single-input models (lyrics-only or features-only)\n",
    "    else:\n",
    "        X = torch.stack([d[0] for d in data])\n",
    "        y = torch.tensor([d[1] for d in data])\n",
    "        return X, y"
   ]
  },
  {
   "cell_type": "markdown",
   "metadata": {},
   "source": [
    "Then we create train and validation datasets using the `DataLoader` method."
   ]
  },
  {
   "cell_type": "code",
   "execution_count": 107,
   "metadata": {},
   "outputs": [],
   "source": [
    "max_len = 512\n",
    "train_dataset = MusicDataset(df_train, tokenizer, max_len, feature_columns=engineered_features)\n",
    "val_dataset = MusicDataset(df_val, tokenizer, max_len, feature_columns=engineered_features)\n",
    "\n",
    "# Create dataloaders\n",
    "batch_size = 64\n",
    "train_loader = DataLoader(train_dataset, batch_size=batch_size, shuffle=True, collate_fn=collate)\n",
    "val_loader = DataLoader(val_dataset, batch_size=batch_size, shuffle=True, collate_fn=collate)"
   ]
  },
  {
   "cell_type": "markdown",
   "metadata": {},
   "source": [
    "## 2. Model Implementation\n",
    "\n",
    "As required, we'll implement three different models:\n",
    "1. Lyrics-only model using word embeddings\n",
    "2. Features-only model using fully connected layers\n",
    "3. Combined model using both lyrics and engineered features"
   ]
  },
  {
   "cell_type": "code",
   "execution_count": 95,
   "metadata": {},
   "outputs": [],
   "source": [
    "# Model 1: Lyrics-only model\n",
    "class LyricsModel(nn.Module):\n",
    "    def __init__(self, vocab_size, embedding_dim, num_classes):\n",
    "        super(LyricsModel, self).__init__()\n",
    "        self.embedding = nn.Embedding(vocab_size, embedding_dim, padding_idx=0)\n",
    "        self.dropout1 = nn.Dropout(0.2)\n",
    "        self.fc1 = nn.Linear(embedding_dim, 128)\n",
    "        self.dropout2 = nn.Dropout(0.2)\n",
    "        self.fc2 = nn.Linear(128, num_classes)\n",
    "        \n",
    "    def forward(self, x):\n",
    "        # x shape: [batch_size, seq_length]\n",
    "        x = self.embedding(x)  # [batch_size, seq_length, embedding_dim]\n",
    "        x = self.dropout1(x)\n",
    "        x = x.mean(dim=1)  # [batch_size, embedding_dim]\n",
    "        x = torch.relu(self.fc1(x))\n",
    "        x = self.dropout2(x)\n",
    "        x = self.fc2(x)\n",
    "        return x\n",
    "\n",
    "# Model 2: Features-only model\n",
    "class FeaturesModel(nn.Module):\n",
    "    def __init__(self, num_features, num_classes):\n",
    "        super(FeaturesModel, self).__init__()\n",
    "        self.fc1 = nn.Linear(num_features, 64)\n",
    "        self.dropout1 = nn.Dropout(0.2)\n",
    "        self.fc2 = nn.Linear(64, 32)\n",
    "        self.dropout2 = nn.Dropout(0.2)\n",
    "        self.fc3 = nn.Linear(32, num_classes)\n",
    "        \n",
    "    def forward(self, x):\n",
    "        x = torch.relu(self.fc1(x))\n",
    "        x = self.dropout1(x)\n",
    "        x = torch.relu(self.fc2(x))\n",
    "        x = self.dropout2(x)\n",
    "        x = self.fc3(x)\n",
    "        return x\n",
    "\n",
    "# Model 3: Combined model\n",
    "class CombinedModel(nn.Module):\n",
    "    def __init__(self, vocab_size, embedding_dim, num_features, num_classes):\n",
    "        super(CombinedModel, self).__init__()\n",
    "        \n",
    "        # Lyrics processing\n",
    "        self.embedding = nn.Embedding(vocab_size, embedding_dim, padding_idx=0)\n",
    "        self.dropout1 = nn.Dropout(0.2)\n",
    "        self.lyrics_fc = nn.Linear(embedding_dim, 128)\n",
    "        \n",
    "        # Features processing\n",
    "        self.features_fc1 = nn.Linear(num_features, 64)\n",
    "        self.dropout2 = nn.Dropout(0.2)\n",
    "        \n",
    "        # Combined processing\n",
    "        self.combined_fc1 = nn.Linear(128 + 64, 64)\n",
    "        self.dropout3 = nn.Dropout(0.2)\n",
    "        self.combined_fc2 = nn.Linear(64, num_classes)\n",
    "        \n",
    "    def forward(self, lyrics, features):\n",
    "        # Process lyrics\n",
    "        lyrics_emb = self.embedding(lyrics)  # [batch_size, seq_length, embedding_dim]\n",
    "        lyrics_emb = self.dropout1(lyrics_emb)\n",
    "        lyrics_emb = lyrics_emb.mean(dim=1)  # [batch_size, embedding_dim]\n",
    "        lyrics_out = torch.relu(self.lyrics_fc(lyrics_emb))  # [batch_size, 128]\n",
    "        \n",
    "        # Process features\n",
    "        features_out = torch.relu(self.features_fc1(features))  # [batch_size, 64]\n",
    "        features_out = self.dropout2(features_out)\n",
    "        \n",
    "        # Combine outputs\n",
    "        combined = torch.cat((lyrics_out, features_out), dim=1)  # [batch_size, 128+64]\n",
    "        combined = torch.relu(self.combined_fc1(combined))\n",
    "        combined = self.dropout3(combined)\n",
    "        output = self.combined_fc2(combined)\n",
    "        \n",
    "        return output"
   ]
  },
  {
   "cell_type": "markdown",
   "metadata": {},
   "source": [
    "We initialize our models with appropriate hyperparameters, including vocabulary size from the BERT tokenizer, embedding dimensions, and the number of output classes based on our genre mappings."
   ]
  },
  {
   "cell_type": "code",
   "execution_count": 96,
   "metadata": {},
   "outputs": [],
   "source": [
    "# Define hyperparameters\n",
    "vocab_size = len(tokenizer.vocab)  # BERT tokenizer vocabulary size\n",
    "embedding_dim = 100\n",
    "num_features = len(engineered_features)\n",
    "num_classes = len(genre_to_idx)\n",
    "\n",
    "# Initialize models\n",
    "lyrics_model = LyricsModel(vocab_size, embedding_dim, num_classes).to(device)\n",
    "features_model = FeaturesModel(num_features, num_classes).to(device)\n",
    "combined_model = CombinedModel(vocab_size, embedding_dim, num_features, num_classes).to(device)"
   ]
  },
  {
   "cell_type": "markdown",
   "metadata": {},
   "source": [
    "## 3. Training and Evaluation Functions"
   ]
  },
  {
   "cell_type": "markdown",
   "metadata": {},
   "source": [
    "These functions handle the training loop and evaluation process for all three model types, tracking metrics like loss and accuracy, and implementing early stopping by saving the best-performing model."
   ]
  },
  {
   "cell_type": "code",
   "execution_count": 97,
   "metadata": {},
   "outputs": [],
   "source": [
    "def train_model(model, model_type, train_loader, val_loader, criterion, optimizer, num_epochs=10):\n",
    "    best_val_acc = 0.0\n",
    "    history = {'train_loss': [], 'train_acc': [], 'val_loss': [], 'val_acc': []}\n",
    "    \n",
    "    for epoch in range(num_epochs):\n",
    "        # Training phase\n",
    "        model.train()\n",
    "        train_loss = 0.0\n",
    "        train_correct = 0\n",
    "        train_total = 0\n",
    "        \n",
    "        for inputs, labels in train_loader:\n",
    "            # Move data to device\n",
    "            labels = labels.to(device)\n",
    "            optimizer.zero_grad()  # Reset gradients\n",
    "            \n",
    "            # Forward pass based on model type\n",
    "            if model_type == 'lyrics':\n",
    "                if isinstance(inputs, tuple):\n",
    "                    lyrics, _ = inputs\n",
    "                    lyrics = lyrics.to(device)\n",
    "                    outputs = model(lyrics)\n",
    "                else:\n",
    "                    inputs = inputs.to(device)\n",
    "                    outputs = model(inputs)\n",
    "            elif model_type == 'features':\n",
    "                if isinstance(inputs, tuple):\n",
    "                    _, features = inputs\n",
    "                    features = features.to(device)\n",
    "                    outputs = model(features)\n",
    "                else:\n",
    "                    inputs = inputs.to(device)\n",
    "                    outputs = model(inputs)\n",
    "            elif model_type == 'combined':\n",
    "                lyrics, features = inputs\n",
    "                lyrics, features = lyrics.to(device), features.to(device)\n",
    "                outputs = model(lyrics, features)\n",
    "            \n",
    "            # Calculate loss\n",
    "            loss = criterion(outputs, labels)\n",
    "            \n",
    "            # Backward pass and optimize\n",
    "            loss.backward()\n",
    "            optimizer.step()\n",
    "            \n",
    "            # Track statistics\n",
    "            train_loss += loss.item() * labels.size(0)\n",
    "            _, predicted = torch.max(outputs, 1)\n",
    "            train_total += labels.size(0)\n",
    "            train_correct += (predicted == labels).sum().item()\n",
    "        \n",
    "        # Calculate epoch metrics\n",
    "        train_loss = train_loss / train_total\n",
    "        train_acc = train_correct / train_total\n",
    "        \n",
    "        # Validation phase\n",
    "        val_loss, val_acc = evaluate_model(model, model_type, val_loader, criterion)\n",
    "        \n",
    "        # Store history\n",
    "        history['train_loss'].append(train_loss)\n",
    "        history['train_acc'].append(train_acc)\n",
    "        history['val_loss'].append(val_loss)\n",
    "        history['val_acc'].append(val_acc)\n",
    "        \n",
    "        # Print epoch results\n",
    "        print(f'Epoch {epoch+1}/{num_epochs} | '\n",
    "              f'Train Loss: {train_loss:.4f} | Train Acc: {train_acc:.4f} | '\n",
    "              f'Val Loss: {val_loss:.4f} | Val Acc: {val_acc:.4f}')\n",
    "        \n",
    "        # Save best model\n",
    "        if val_acc > best_val_acc:\n",
    "            best_val_acc = val_acc\n",
    "            best_model_state = model.state_dict().copy()\n",
    "    \n",
    "    # Load best model state\n",
    "    model.load_state_dict(best_model_state)\n",
    "    \n",
    "    return model, history, best_val_acc\n",
    "\n",
    "def evaluate_model(model, model_type, data_loader, criterion):\n",
    "    model.eval()\n",
    "    total_loss = 0.0\n",
    "    correct = 0\n",
    "    total = 0\n",
    "    \n",
    "    with torch.no_grad():\n",
    "        for inputs, labels in data_loader:\n",
    "            labels = labels.to(device)\n",
    "            \n",
    "            # Forward pass based on model type\n",
    "            if model_type == 'lyrics':\n",
    "                lyrics, _ = inputs\n",
    "                lyrics = lyrics.to(device)\n",
    "                outputs = model(lyrics)\n",
    "            elif model_type == 'features':\n",
    "                _, features = inputs\n",
    "                features = features.to(device)\n",
    "                outputs = model(features)\n",
    "            elif model_type == 'combined':\n",
    "                lyrics, features = inputs\n",
    "                lyrics, features = lyrics.to(device), features.to(device)\n",
    "                outputs = model(lyrics, features)\n",
    "            \n",
    "            # Calculate loss\n",
    "            loss = criterion(outputs, labels)\n",
    "            \n",
    "            # Track statistics\n",
    "            total_loss += loss.item() * labels.size(0)\n",
    "            _, predicted = torch.max(outputs, 1)\n",
    "            total += labels.size(0)\n",
    "            correct += (predicted == labels).sum().item()\n",
    "    \n",
    "    # Calculate metrics\n",
    "    avg_loss = total_loss / total\n",
    "    accuracy = correct / total\n",
    "    \n",
    "    return avg_loss, accuracy"
   ]
  },
  {
   "cell_type": "markdown",
   "metadata": {},
   "source": [
    "### Training the Models"
   ]
  },
  {
   "cell_type": "markdown",
   "metadata": {},
   "source": [
    "We train each model separately using the Adam optimizer, comparing their performance over multiple epochs."
   ]
  },
  {
   "cell_type": "code",
   "execution_count": 98,
   "metadata": {},
   "outputs": [
    {
     "name": "stdout",
     "output_type": "stream",
     "text": [
      "Training Lyrics Model...\n",
      "Epoch 1/20 | Train Loss: 1.9089 | Train Acc: 0.2354 | Val Loss: 1.8788 | Val Acc: 0.2481\n",
      "Epoch 2/20 | Train Loss: 1.8558 | Train Acc: 0.2482 | Val Loss: 1.8397 | Val Acc: 0.2481\n",
      "Epoch 3/20 | Train Loss: 1.8313 | Train Acc: 0.2482 | Val Loss: 1.8259 | Val Acc: 0.2481\n",
      "Epoch 4/20 | Train Loss: 1.8211 | Train Acc: 0.2482 | Val Loss: 1.8173 | Val Acc: 0.2481\n",
      "Epoch 5/20 | Train Loss: 1.8112 | Train Acc: 0.2482 | Val Loss: 1.8089 | Val Acc: 0.2481\n",
      "Epoch 6/20 | Train Loss: 1.8011 | Train Acc: 0.2483 | Val Loss: 1.7991 | Val Acc: 0.2481\n",
      "Epoch 7/20 | Train Loss: 1.7896 | Train Acc: 0.2488 | Val Loss: 1.7881 | Val Acc: 0.2483\n",
      "Epoch 8/20 | Train Loss: 1.7775 | Train Acc: 0.2519 | Val Loss: 1.7769 | Val Acc: 0.2529\n",
      "Epoch 9/20 | Train Loss: 1.7652 | Train Acc: 0.2581 | Val Loss: 1.7664 | Val Acc: 0.2629\n",
      "Epoch 10/20 | Train Loss: 1.7531 | Train Acc: 0.2647 | Val Loss: 1.7567 | Val Acc: 0.2707\n",
      "Epoch 11/20 | Train Loss: 1.7429 | Train Acc: 0.2729 | Val Loss: 1.7487 | Val Acc: 0.2775\n",
      "Epoch 12/20 | Train Loss: 1.7330 | Train Acc: 0.2778 | Val Loss: 1.7414 | Val Acc: 0.2809\n",
      "Epoch 13/20 | Train Loss: 1.7242 | Train Acc: 0.2853 | Val Loss: 1.7352 | Val Acc: 0.2860\n",
      "Epoch 14/20 | Train Loss: 1.7163 | Train Acc: 0.2901 | Val Loss: 1.7297 | Val Acc: 0.2923\n",
      "Epoch 15/20 | Train Loss: 1.7088 | Train Acc: 0.2963 | Val Loss: 1.7246 | Val Acc: 0.2967\n",
      "Epoch 16/20 | Train Loss: 1.7034 | Train Acc: 0.2986 | Val Loss: 1.7200 | Val Acc: 0.2992\n",
      "Epoch 17/20 | Train Loss: 1.6951 | Train Acc: 0.3058 | Val Loss: 1.7160 | Val Acc: 0.3013\n",
      "Epoch 18/20 | Train Loss: 1.6891 | Train Acc: 0.3090 | Val Loss: 1.7118 | Val Acc: 0.3061\n",
      "Epoch 19/20 | Train Loss: 1.6830 | Train Acc: 0.3160 | Val Loss: 1.7079 | Val Acc: 0.3096\n",
      "Epoch 20/20 | Train Loss: 1.6762 | Train Acc: 0.3192 | Val Loss: 1.7042 | Val Acc: 0.3108\n",
      "Training Features Model...\n",
      "Epoch 1/20 | Train Loss: 1.9323 | Train Acc: 0.1756 | Val Loss: 1.8592 | Val Acc: 0.2462\n",
      "Epoch 2/20 | Train Loss: 1.8119 | Train Acc: 0.2630 | Val Loss: 1.7585 | Val Acc: 0.2902\n",
      "Epoch 3/20 | Train Loss: 1.7342 | Train Acc: 0.2983 | Val Loss: 1.6882 | Val Acc: 0.3212\n",
      "Epoch 4/20 | Train Loss: 1.6836 | Train Acc: 0.3179 | Val Loss: 1.6426 | Val Acc: 0.3369\n",
      "Epoch 5/20 | Train Loss: 1.6493 | Train Acc: 0.3313 | Val Loss: 1.6149 | Val Acc: 0.3394\n",
      "Epoch 6/20 | Train Loss: 1.6307 | Train Acc: 0.3407 | Val Loss: 1.5966 | Val Acc: 0.3448\n",
      "Epoch 7/20 | Train Loss: 1.6176 | Train Acc: 0.3428 | Val Loss: 1.5836 | Val Acc: 0.3505\n",
      "Epoch 8/20 | Train Loss: 1.6067 | Train Acc: 0.3449 | Val Loss: 1.5736 | Val Acc: 0.3526\n",
      "Epoch 9/20 | Train Loss: 1.5983 | Train Acc: 0.3478 | Val Loss: 1.5654 | Val Acc: 0.3533\n",
      "Epoch 10/20 | Train Loss: 1.5931 | Train Acc: 0.3515 | Val Loss: 1.5585 | Val Acc: 0.3563\n",
      "Epoch 11/20 | Train Loss: 1.5878 | Train Acc: 0.3534 | Val Loss: 1.5525 | Val Acc: 0.3588\n",
      "Epoch 12/20 | Train Loss: 1.5829 | Train Acc: 0.3560 | Val Loss: 1.5477 | Val Acc: 0.3641\n",
      "Epoch 13/20 | Train Loss: 1.5751 | Train Acc: 0.3558 | Val Loss: 1.5431 | Val Acc: 0.3635\n",
      "Epoch 14/20 | Train Loss: 1.5717 | Train Acc: 0.3604 | Val Loss: 1.5393 | Val Acc: 0.3678\n",
      "Epoch 15/20 | Train Loss: 1.5681 | Train Acc: 0.3640 | Val Loss: 1.5360 | Val Acc: 0.3690\n",
      "Epoch 16/20 | Train Loss: 1.5675 | Train Acc: 0.3649 | Val Loss: 1.5329 | Val Acc: 0.3700\n",
      "Epoch 17/20 | Train Loss: 1.5612 | Train Acc: 0.3659 | Val Loss: 1.5304 | Val Acc: 0.3730\n",
      "Epoch 18/20 | Train Loss: 1.5602 | Train Acc: 0.3648 | Val Loss: 1.5284 | Val Acc: 0.3748\n",
      "Epoch 19/20 | Train Loss: 1.5560 | Train Acc: 0.3689 | Val Loss: 1.5259 | Val Acc: 0.3769\n",
      "Epoch 20/20 | Train Loss: 1.5595 | Train Acc: 0.3665 | Val Loss: 1.5241 | Val Acc: 0.3771\n",
      "Training Combined Model...\n",
      "Epoch 1/20 | Train Loss: 1.8684 | Train Acc: 0.2116 | Val Loss: 1.7831 | Val Acc: 0.2493\n",
      "Epoch 2/20 | Train Loss: 1.7372 | Train Acc: 0.2803 | Val Loss: 1.6807 | Val Acc: 0.3274\n",
      "Epoch 3/20 | Train Loss: 1.6537 | Train Acc: 0.3330 | Val Loss: 1.6108 | Val Acc: 0.3507\n",
      "Epoch 4/20 | Train Loss: 1.6089 | Train Acc: 0.3521 | Val Loss: 1.5764 | Val Acc: 0.3656\n",
      "Epoch 5/20 | Train Loss: 1.5815 | Train Acc: 0.3625 | Val Loss: 1.5557 | Val Acc: 0.3693\n",
      "Epoch 6/20 | Train Loss: 1.5692 | Train Acc: 0.3694 | Val Loss: 1.5422 | Val Acc: 0.3752\n",
      "Epoch 7/20 | Train Loss: 1.5512 | Train Acc: 0.3736 | Val Loss: 1.5310 | Val Acc: 0.3764\n",
      "Epoch 8/20 | Train Loss: 1.5410 | Train Acc: 0.3817 | Val Loss: 1.5215 | Val Acc: 0.3838\n",
      "Epoch 9/20 | Train Loss: 1.5315 | Train Acc: 0.3845 | Val Loss: 1.5138 | Val Acc: 0.3887\n",
      "Epoch 10/20 | Train Loss: 1.5203 | Train Acc: 0.3901 | Val Loss: 1.5073 | Val Acc: 0.3947\n",
      "Epoch 11/20 | Train Loss: 1.5098 | Train Acc: 0.3944 | Val Loss: 1.5009 | Val Acc: 0.3995\n",
      "Epoch 12/20 | Train Loss: 1.5065 | Train Acc: 0.3986 | Val Loss: 1.4972 | Val Acc: 0.4004\n",
      "Epoch 13/20 | Train Loss: 1.5026 | Train Acc: 0.3996 | Val Loss: 1.4921 | Val Acc: 0.4035\n",
      "Epoch 14/20 | Train Loss: 1.4919 | Train Acc: 0.4055 | Val Loss: 1.4874 | Val Acc: 0.4060\n",
      "Epoch 15/20 | Train Loss: 1.4804 | Train Acc: 0.4139 | Val Loss: 1.4842 | Val Acc: 0.4065\n",
      "Epoch 16/20 | Train Loss: 1.4773 | Train Acc: 0.4110 | Val Loss: 1.4800 | Val Acc: 0.4097\n",
      "Epoch 17/20 | Train Loss: 1.4743 | Train Acc: 0.4153 | Val Loss: 1.4760 | Val Acc: 0.4125\n",
      "Epoch 18/20 | Train Loss: 1.4689 | Train Acc: 0.4179 | Val Loss: 1.4746 | Val Acc: 0.4116\n",
      "Epoch 19/20 | Train Loss: 1.4631 | Train Acc: 0.4191 | Val Loss: 1.4706 | Val Acc: 0.4143\n",
      "Epoch 20/20 | Train Loss: 1.4541 | Train Acc: 0.4242 | Val Loss: 1.4679 | Val Acc: 0.4155\n"
     ]
    }
   ],
   "source": [
    "num_epochs = 20\n",
    "learning_rate = 0.0001\n",
    "criterion = nn.CrossEntropyLoss()\n",
    "\n",
    "# Initialize optimizers\n",
    "lyrics_optimizer = torch.optim.Adam(lyrics_model.parameters(), lr=learning_rate)\n",
    "features_optimizer = torch.optim.Adam(features_model.parameters(), lr=learning_rate)\n",
    "combined_optimizer = torch.optim.Adam(combined_model.parameters(), lr=learning_rate)\n",
    "\n",
    "# Train Lyrics Model\n",
    "print(\"Training Lyrics Model...\")\n",
    "lyrics_model, lyrics_history, lyrics_best_acc = train_model(\n",
    "    lyrics_model, 'lyrics', train_loader, val_loader, criterion, lyrics_optimizer, num_epochs=num_epochs\n",
    ")\n",
    "# Train Features Model\n",
    "print(\"Training Features Model...\")\n",
    "features_model, features_history, features_best_acc = train_model(\n",
    "    features_model, 'features', train_loader, val_loader, criterion, features_optimizer, num_epochs=num_epochs\n",
    ")\n",
    "# Train Combined Model\n",
    "print(\"Training Combined Model...\")\n",
    "combined_model, combined_history, combined_best_acc = train_model(\n",
    "    combined_model, 'combined', train_loader, val_loader, criterion, combined_optimizer, num_epochs=num_epochs\n",
    ")"
   ]
  },
  {
   "cell_type": "markdown",
   "metadata": {},
   "source": [
    "## 4. Results Comparison"
   ]
  },
  {
   "cell_type": "markdown",
   "metadata": {},
   "source": [
    "We visualize the training and validation metrics across all models to compare their performance."
   ]
  },
  {
   "cell_type": "code",
   "execution_count": 99,
   "metadata": {},
   "outputs": [
    {
     "data": {
      "image/png": "[encoded data removed]",
      "text/plain": [
       "<Figure size 1400x500 with 2 Axes>"
      ]
     },
     "metadata": {},
     "output_type": "display_data"
    }
   ],
   "source": [
    "plt.figure(figsize=(14, 5))\n",
    "\n",
    "# Plot training & validation accuracy values\n",
    "plt.subplot(1, 2, 1)\n",
    "plt.plot(lyrics_history['train_acc'], label='Lyrics Train')\n",
    "plt.plot(lyrics_history['val_acc'], label='Lyrics Val')\n",
    "plt.plot(features_history['train_acc'], label='Features Train')\n",
    "plt.plot(features_history['val_acc'], label='Features Val')\n",
    "plt.plot(combined_history['train_acc'], label='Combined Train')\n",
    "plt.plot(combined_history['val_acc'], label='Combined Val')\n",
    "plt.axhline(y=base_rate, color='r', linestyle='--', label='Base Rate')\n",
    "plt.title('Model Accuracy')\n",
    "plt.ylabel('Accuracy')\n",
    "plt.xlabel('Epoch')\n",
    "plt.legend()\n",
    "\n",
    "# Plot training & validation loss values\n",
    "plt.subplot(1, 2, 2)\n",
    "plt.plot(lyrics_history['train_loss'], label='Lyrics Train')\n",
    "plt.plot(lyrics_history['val_loss'], label='Lyrics Val')\n",
    "plt.plot(features_history['train_loss'], label='Features Train')\n",
    "plt.plot(features_history['val_loss'], label='Features Val')\n",
    "plt.plot(combined_history['train_loss'], label='Combined Train')\n",
    "plt.plot(combined_history['val_loss'], label='Combined Val')\n",
    "plt.title('Model Loss')\n",
    "plt.ylabel('Loss')\n",
    "plt.xlabel('Epoch')\n",
    "plt.legend()\n",
    "plt.tight_layout()\n",
    "plt.show()"
   ]
  },
  {
   "cell_type": "markdown",
   "metadata": {},
   "source": [
    "All models significantly outperform the base rate (25%), demonstrating that both lyrics and engineered features provide valuable signals for genre classification. The Combined model achieves the highest accuracy (~42-43%), confirming that integrating textual and audio information creates a more comprehensive representation of music genres. Notably, the Features-only model (~37% accuracy) surpasses the Lyrics-only model (~31%), suggesting that acoustic characteristics more strongly correlate with genre than lyrical content.\n",
    "\n",
    "The close alignment between training and validation curves indicates robust generalization across models, with minimal overfitting. The Combined model exhibits the lowest loss values throughout training, further validating its superior performance. All models show progressive improvement across epochs, though the Lyrics model displays the largest gap between training and validation loss, indicating some challenges in generalizing purely text-based features. These findings highlight the complementary nature of multimodal approaches in music classification tasks and demonstrate how different data sources capture distinct aspects of musical genre identity.\n"
   ]
  },
  {
   "cell_type": "markdown",
   "metadata": {},
   "source": [
    "### Word Embedding Visualization\n",
    "\n",
    "Now let's visualize the word embeddings learned by our lyrics model to see if there are any interesting patterns or associations between words that might be relevant to genre classification."
   ]
  },
  {
   "cell_type": "code",
   "execution_count": 103,
   "metadata": {},
   "outputs": [
    {
     "data": {
      "application/vnd.plotly.v1+json": {
       "config": {
        "plotlyServerURL": "https://plot.ly"
       },
       "data": [
        {
         "hovertemplate": "<b>%{hovertext}</b><br><br>x0=%{x}<br>x1=%{y}<br>size=%{marker.size}<extra></extra>",
         "hovertext": [
          "segregated",
          "[unused26]",
          "belgrade",
          "aquatics",
          "apex",
          "socialists",
          "boardwalk",
          "whispers",
          "flora",
          "integers",
          "emission",
          "tasked",
          "myers",
          "mentally",
          "fay",
          "torture",
          "uncertainty",
          "fatigue",
          "twitch",
          "signal",
          "influenza",
          "earth",
          "collegiate",
          "infringement",
          "##icate",
          "securely",
          "facts",
          "rq",
          "suppression",
          "khorasan",
          "temps",
          "raids",
          "announcements",
          "stench",
          "##iform",
          "[unused107]",
          "jokes",
          "##adan",
          "explodes",
          "##zine",
          "gypsy",
          "wrinkled",
          "##ife",
          "[unused307]",
          "poles",
          "prose",
          "##vil",
          "##bolic",
          "nucleus",
          "drums",
          "##actic",
          "hoarse",
          "[unused234]",
          "honorable",
          "syndication",
          "clinic",
          "##fat",
          "stumbling",
          "usher",
          "fought",
          "##biotic",
          "incorporates",
          "foot",
          "92",
          "##vyn",
          "##ski",
          "[unused497]",
          "clustered",
          "offset",
          "attic",
          "detainees",
          "keep",
          "investment",
          "victoria",
          "##3d",
          "is",
          "##gli",
          "ð",
          "defiance",
          "stil",
          "hesitant",
          "controversial",
          "##year",
          "##ssee",
          "ћ",
          "##anial",
          "conical",
          "nicolas",
          "upcoming",
          "conception",
          "cairns",
          "chilled",
          "sabbath",
          "##ausen",
          "##lm",
          "mechanized",
          "hancock",
          "##ities",
          "##ч",
          "wounds",
          "316",
          "##shot",
          "##ophone",
          "airbus",
          "accompany",
          "topography",
          "trevor",
          "cesar",
          "ignorant",
          "loyola",
          "palatinate",
          "siege",
          "bequeathed",
          "admitted",
          "financial",
          "radios",
          "amongst",
          "jang",
          "gut",
          "##islaus",
          "either",
          "##antes",
          "destruction",
          "[unused359]",
          "renal",
          "[unused635]",
          "abbreviated",
          "streamlined",
          "##zi",
          "constructive",
          "embarrassed",
          "糹",
          "mrna",
          "feather",
          "cooperative",
          "corresponding",
          "cedric",
          "laps",
          "##ف",
          "bane",
          "1620",
          "transgender",
          "cold",
          "female",
          "422",
          "handing",
          "sites",
          "dylan",
          "auditions",
          "stir",
          "surprisingly",
          "blink",
          "##17",
          "cereal",
          "##о",
          "trader",
          "certain",
          "suited",
          "##cic",
          "м",
          "teachers",
          "integrate",
          "##dha",
          "##idon",
          "dennis",
          "dispersal",
          "lamar",
          "siblings",
          "weed",
          "katz",
          "ballroom",
          "conflicts",
          "##ம",
          "2020",
          "##ula",
          "[unused300]",
          "##mba",
          "backlash",
          "most",
          "slide",
          "1990s",
          "##n",
          "##宣",
          "##duction",
          "favors",
          "rarely",
          "mcmahon",
          "pradesh",
          "##enter",
          "[unused786]",
          "muffled",
          "##writing",
          "floyd",
          "clearly",
          "##lane",
          "る",
          "##4th",
          "franz",
          "protocols",
          "destinations",
          "namesake",
          "steppe",
          "hopefully",
          "milky",
          "similar",
          "##tance",
          "##ʉ",
          "leung",
          "zoe",
          "burning",
          "jocelyn",
          "missy",
          "bosnian",
          "¤",
          "towing",
          "wait",
          "descriptions",
          "sofie",
          "specialization",
          "##ik",
          "[unused887]",
          "zheng",
          "proven",
          "transfers",
          "grimace",
          "skyscraper",
          "ほ",
          "navigable",
          "[unused83]",
          "spiked",
          "seymour",
          "segment",
          "edo",
          "banks",
          "##tma",
          "knocked",
          "[unused133]",
          "resurrection",
          "smoothly",
          "bump",
          "afro",
          "dude",
          "##rey",
          "tyson",
          "imp",
          "grease",
          "declines",
          "galen",
          "##ive",
          "rotary",
          "bulging",
          "mater",
          "manpower",
          "potential",
          "hive",
          "barre",
          "##‖",
          "associates",
          "migrated",
          "renewed",
          "punishments",
          "emily",
          "elton",
          "kyle",
          "bilingual",
          "investigates",
          "##bas",
          "inverness",
          "bollywood",
          "tea",
          "delight",
          "slab",
          "maori",
          "sitting",
          "##tze",
          "wheeler",
          "##hya",
          "##mat",
          "males",
          "##emann",
          "[unused525]",
          "##xa",
          "##logy",
          "accidental",
          "resolving",
          "gandhi",
          "kowalski",
          "##sco",
          "##zos",
          "blocks",
          "##aga",
          "##eri",
          "и",
          "synthesizer",
          "over",
          "241",
          "gleaming",
          "analytics",
          "cortes",
          "##36"
         ],
         "legendgroup": "",
         "marker": {
          "color": "#636efa",
          "size": {
           "bdata": "mpmZmZmZuT+amZmZmZm5P5qZmZmZmbk/mpmZmZmZuT+amZmZmZm5P5qZmZmZmbk/mpmZmZmZuT+amZmZmZm5P5qZmZmZmbk/mpmZmZmZuT+amZmZmZm5P5qZmZmZmbk/mpmZmZmZuT+amZmZmZm5P5qZmZmZmbk/mpmZmZmZuT+amZmZmZm5P5qZmZmZmbk/mpmZmZmZuT+amZmZmZm5P5qZmZmZmbk/mpmZmZmZuT+amZmZmZm5P5qZmZmZmbk/mpmZmZmZuT+amZmZmZm5P5qZmZmZmbk/mpmZmZmZuT+amZmZmZm5P5qZmZmZmbk/mpmZmZmZuT+amZmZmZm5P5qZmZmZmbk/mpmZmZmZuT+amZmZmZm5P5qZmZmZmbk/mpmZmZmZuT+amZmZmZm5P5qZmZmZmbk/mpmZmZmZuT+amZmZmZm5P5qZmZmZmbk/mpmZmZmZuT+amZmZmZm5P5qZmZmZmbk/mpmZmZmZuT+amZmZmZm5P5qZmZmZmbk/mpmZmZmZuT+amZmZmZm5P5qZmZmZmbk/mpmZmZmZuT+amZmZmZm5P5qZmZmZmbk/mpmZmZmZuT+amZmZmZm5P5qZmZmZmbk/mpmZmZmZuT+amZmZmZm5P5qZmZmZmbk/mpmZmZmZuT+amZmZmZm5P5qZmZmZmbk/mpmZmZmZuT+amZmZmZm5P5qZmZmZmbk/mpmZmZmZuT+amZmZmZm5P5qZmZmZmbk/mpmZmZmZuT+amZmZmZm5P5qZmZmZmbk/mpmZmZmZuT+amZmZmZm5P5qZmZmZmbk/mpmZmZmZuT+amZmZmZm5P5qZmZmZmbk/mpmZmZmZuT+amZmZmZm5P5qZmZmZmbk/mpmZmZmZuT+amZmZmZm5P5qZmZmZmbk/mpmZmZmZuT+amZmZmZm5P5qZmZmZmbk/mpmZmZmZuT+amZmZmZm5P5qZmZmZmbk/mpmZmZmZuT+amZmZmZm5P5qZmZmZmbk/mpmZmZmZuT+amZmZmZm5P5qZmZmZmbk/mpmZmZmZuT+amZmZmZm5P5qZmZmZmbk/mpmZmZmZuT+amZmZmZm5P5qZmZmZmbk/mpmZmZmZuT+amZmZmZm5P5qZmZmZmbk/mpmZmZmZuT+amZmZmZm5P5qZmZmZmbk/mpmZmZmZuT+amZmZmZm5P5qZmZmZmbk/mpmZmZmZuT+amZmZmZm5P5qZmZmZmbk/mpmZmZmZuT+amZmZmZm5P5qZmZmZmbk/mpmZmZmZuT+amZmZmZm5P5qZmZmZmbk/mpmZmZmZuT+amZmZmZm5P5qZmZmZmbk/mpmZmZmZuT+amZmZmZm5P5qZmZmZmbk/mpmZmZmZuT+amZmZmZm5P5qZmZmZmbk/mpmZmZmZuT+amZmZmZm5P5qZmZmZmbk/mpmZmZmZuT+amZmZmZm5P5qZmZmZmbk/mpmZmZmZuT+amZmZmZm5P5qZmZmZmbk/mpmZmZmZuT+amZmZmZm5P5qZmZmZmbk/mpmZmZmZuT+amZmZmZm5P5qZmZmZmbk/mpmZmZmZuT+amZmZmZm5P5qZmZmZmbk/mpmZmZmZuT+amZmZmZm5P5qZmZmZmbk/mpmZmZmZuT+amZmZmZm5P5qZmZmZmbk/mpmZmZmZuT+amZmZmZm5P5qZmZmZmbk/mpmZmZmZuT+amZmZmZm5P5qZmZmZmbk/mpmZmZmZuT+amZmZmZm5P5qZmZmZmbk/mpmZmZmZuT+amZmZmZm5P5qZmZmZmbk/mpmZmZmZuT+amZmZmZm5P5qZmZmZmbk/mpmZmZmZuT+amZmZmZm5P5qZmZmZmbk/mpmZmZmZuT+amZmZmZm5P5qZmZmZmbk/mpmZmZmZuT+amZmZmZm5P5qZmZmZmbk/mpmZmZmZuT+amZmZmZm5P5qZmZmZmbk/mpmZmZmZuT+amZmZmZm5P5qZmZmZmbk/mpmZmZmZuT+amZmZmZm5P5qZmZmZmbk/mpmZmZmZuT+amZmZmZm5P5qZmZmZmbk/mpmZmZmZuT+amZmZmZm5P5qZmZmZmbk/mpmZmZmZuT+amZmZmZm5P5qZmZmZmbk/mpmZmZmZuT+amZmZmZm5P5qZmZmZmbk/mpmZmZmZuT+amZmZmZm5P5qZmZmZmbk/mpmZmZmZuT+amZmZmZm5P5qZmZmZmbk/mpmZmZmZuT+amZmZmZm5P5qZmZmZmbk/mpmZmZmZuT+amZmZmZm5P5qZmZmZmbk/mpmZmZmZuT+amZmZmZm5P5qZmZmZmbk/mpmZmZmZuT+amZmZmZm5P5qZmZmZmbk/mpmZmZmZuT+amZmZmZm5P5qZmZmZmbk/mpmZmZmZuT+amZmZmZm5P5qZmZmZmbk/mpmZmZmZuT+amZmZmZm5P5qZmZmZmbk/mpmZmZmZuT+amZmZmZm5P5qZmZmZmbk/mpmZmZmZuT+amZmZmZm5P5qZmZmZmbk/mpmZmZmZuT+amZmZmZm5P5qZmZmZmbk/mpmZmZmZuT+amZmZmZm5P5qZmZmZmbk/mpmZmZmZuT+amZmZmZm5P5qZmZmZmbk/mpmZmZmZuT+amZmZmZm5P5qZmZmZmbk/mpmZmZmZuT+amZmZmZm5P5qZmZmZmbk/mpmZmZmZuT+amZmZmZm5P5qZmZmZmbk/mpmZmZmZuT+amZmZmZm5P5qZmZmZmbk/mpmZmZmZuT+amZmZmZm5P5qZmZmZmbk/mpmZmZmZuT+amZmZmZm5P5qZmZmZmbk/mpmZmZmZuT+amZmZmZm5P5qZmZmZmbk/mpmZmZmZuT+amZmZmZm5P5qZmZmZmbk/mpmZmZmZuT+amZmZmZm5P5qZmZmZmbk/mpmZmZmZuT+amZmZmZm5P5qZmZmZmbk/mpmZmZmZuT+amZmZmZm5P5qZmZmZmbk/mpmZmZmZuT+amZmZmZm5P5qZmZmZmbk/mpmZmZmZuT+amZmZmZm5P5qZmZmZmbk/mpmZmZmZuT+amZmZmZm5P5qZmZmZmbk/mpmZmZmZuT+amZmZmZm5P5qZmZmZmbk/mpmZmZmZuT+amZmZmZm5P5qZmZmZmbk/mpmZmZmZuT+amZmZmZm5P5qZmZmZmbk/mpmZmZmZuT+amZmZmZm5P5qZmZmZmbk/mpmZmZmZuT+amZmZmZm5P5qZmZmZmbk/mpmZmZmZuT+amZmZmZm5P5qZmZmZmbk/",
           "dtype": "f8"
          },
          "sizemode": "area",
          "sizeref": 0.00025,
          "symbol": "circle"
         },
         "mode": "markers",
         "name": "",
         "orientation": "v",
         "showlegend": false,
         "type": "scatter",
         "x": {
          "bdata": "mJHYv0HLu75HIpc/gDY1PhrXqL8fklC+unaUvvTVzL9fckw/1owlQMLBm7/6IFe/SaSrvxbpoT8tGAXAIDfkP/Phoj5ilwc/8s3Vv3mAPD+mZma/LCCLvbMKrL/uIE+/emQHP9/MMD+jsdM/kdJZPmJM377B0hNAJE2Tv77Lzj7pKJY/QVgBP/Jc5L3x9Oi+rFwNQEUkx79Dx6o/FI18PmJOAzzue3i/hvGuPca8Wb6esby/wfijP3OQlr8pB0Y/vavLvgwCDz9Kp149vDLRPm5fJL/hzwJAKJiMPi9kL79YZX6/YX0XwOXKF790CYe+CM1IvG3Nh79688y/6e6YP9Frfj9wyUm/oR84v005Rr+RVW8/ZkhJv5f1er/TeCm/lu4Wv11bST43opM/AaKgPMA9PT+Dv2q/1sWEvhDznT1tHgXAkJzyP3mWO78v/uq/7amFvmqwLD+REk8+45V8Pxdh3bwzsjQ/yowqvt8NBr9ijB4/tYkPP/gOuj4H3Le/1LWXPgxCXL4V1fI+oxsIv1KU9buf0IA+M+Cuv4alFj+FmYc/jfRoPnQ/vj/M3KM/Ebp2P4bdMb5Q7eu/hVGrP35AeD16kQy+t2XyPmJCuD87DQ9AD2cEv+lK0b5ADlQ9NTswP+Uwqr8AHfI/lspyP8PzV7/Ksp6+d+Gtvu5P5r/IGaG9ZWuFPrWFEkDxr7Q/P9IowIW6pb8OaS6/wsmVP6CV/79On4O+LwiVPC5wnD7C7bG/VCUCQKp9Jz+mwV2/KCzfPhkBZz5+hlK/ND3UPoOKbr9bFay+tBoKPa5E4r/vxai9GLwjv84AEr+Hx8+9wd1pPyGACcBOi74+Bb+6v4uygr1jqs4+rIAdP/y3oL3ee7g+RjSZP6hOTz9qSUK+y4c8P38BM0BBvLg+OhuAv4IJzD6e9pS/yYeBPTCju7/YwsO/Ed4GP4PYFz/cO1u+3a4AP6JZFj/GxCy9KPPYv2VHSj5VUdm+Op1GP3AhlT/WuDw+GEi6P0yW8b6wEUm/Z2/hv4UHYT/Ga7++VPwuv2IcPD5yJSC+f/iHPs9ZJ8ALBZy+B0VJv/Zg77/6a6I+QEgsv6fukT5XASq/NGXmPemZj7/5mqc/HDKYP4qhqr+fPx4/yUo8QGVXzz+VOUe/rRgivuoqFzz/GMi/Z5oMwJkfG75GfHe/+q9lwIJQrj81GzFAUx5jvnjirL8q3pq/GXuPP7J2eL/lTPk+k3OEP6Akuz5eVjM+Zhmdv+iWgb/2ppq/vGshPm33ib6s/gU/a/WMP/EtND+AXwu/qHR9vxBBi75mlpG/vTEmv8mOIb5vX40/gDYnOeVlur/MNtA/ejItv/19J0AyiZM/C4exPofPez9+Iye/x8UeP8vFzb4SRPq+H5FVPq679z/+f1O9LzkTv5pxsz96DBBA/owYv9GT9L75TqC9eKcePa7U1T07EbA/9M2iPlXAXr9VuB4/dloKv20OiT/ZfaE+6omAv+zfQj40SL4+2/lHv6vT8T+Wzs+/1YOHP7iPOr25p6g+7RG9PxEKxb6Azsi/ogQ+PnnsID+MkTi/WtDGv5vV4DxC7lo/Fha5P9pwsz8KNL8/",
          "dtype": "f4"
         },
         "xaxis": "x",
         "y": {
          "bdata": "faIKwLQSJb/Ccte/oX4aP70ZaL+kouI+zt2mv2VGk75jwWk/A99sv5XiCEAXBJk/jsHMP948fT8Y182+BmSfvx7yIL9p3kk/4xcpP937R7+wTvQ/RzCWvwi+wT1GmHo/zkD5vvJk9j297C0+PEPvvY64Sz8UpYc/1xZpvrxutT6ZVqS+C7/2vzYf7L/DNWC/EMcLQGad7j9FZyY/J88EP6pAkj+OQ8S+NxYPv9n6CkA9mMq+9l/Uvx+xU798bvQ9TcUrviaoUj9eg3c/LZ6VvxjY3L9+rmy/OzkAvz/oLb+KYcG+SfTpP/1mjj/FeYG/Xi0Lv9IfnL5jm0m+LqpwwBpogL5Betw/1EmwvzRE+r9wv5c/KTMSQNWPoz8nvau/rJ9Iv3zsp7/pTSQ/oYChPtsb0r8Mb2g+IfhoP1k0hj8IZ6k+eLPjPsUMUD0MVWO/1/4hQBCkgz3vseU/i4A0v3CuED9uiUG/WhxTv9pf3r78Vog/ZSODPzqnsj170cI/1lCEvbdx0r8kiTu/sVH3P4cQoD7+lj6/z6nWPiliEUAwICI+Ee1NPiqQ776T5RJA72Kcvyc2b7/V+9W/I9UPQIeFpT4rIy7ArDEgQD4Ssb9L14K/jvb1vxw1fL4eBWs/va2tvz2H9r7cR8k/ahrXP00jJb/EfpQ/AJ1QP+ksjb4wr+o/nIC2vneGub/ZoN6+To/5vuLE5D6y2sy/5YyaPlE4C79tYgHASrS3P7tmBT9fSAJA7lAjv0qEO76DBgo/+tfZvrWo2z53Y1O/h6GePgB46L+3piBAGEYxP18unz884Jc//JUyPPKACb8fez0/u6w9P5p/gr6XZki/yHn8v1b2Xj4XuKy/7xdRv9ZbA8DEgSI+LmFiP68zoj4br5G/EnzRPnQs1b40H7A/COmZvRzG8r4EAX0/2R0DvyXYrr4JuyvAn/bjv/9ZL77VDPW/gh/AvaMH1z9tb6c+UxxLv9aNnz6GX5o/IkHyv5b35rwUL70/hSsQv0hQMD9c+r++EwZKv9tF2j5g7cm/zc38Px4uSr3quwS+TFOwvQrD17+WhT0/TOOrv4YjC7/HTvw/BbgYvyFKCcBYE30/vqm7vxj4o76cr88/CWyTP4KK+L9NA64/hhXIPijdpj8EHOo/j46VvSi6BL6MvbG/aJ8aP4DRb78EACk/JTMev1/LGz7l8kG/vaKjP0MbpT+i6ua+H1xfv3+PHj9vZS6/QkbMvxRAij9sFgs/FCtFv4VBDMD6Cd0/QS5oP9I+UEBttqC+kJx+Poti5b5rSMQ/KKwDvkLoBUAXSRU/M2RHv96H3L8miTC/IgWLvxmGL7+83Me/t4nMP26obj+GpfC+PFXNv0RilD7ittG+R/IOwCAnh79F/5s/sjOhvHFMRL/9WLc+39pUvzvg7T7H6Bo/KOdqv3PT4T8fc4HANdIGwHIeZr+0ZkY/HAHWP9aPPr+aOXe+HAMTv6S4+7+1+UK/lddKP3hQrr9ipyi/RFVSv/GKAMBRs+k/RZEDPXqMh75Zj8W/8sYcPmjbib/QDKs/vzb7P4P0sb7Z9w2+OvtGPnQkjz8mpRo/1bdBvbPAU8BIPc69",
          "dtype": "f4"
         },
         "yaxis": "y"
        }
       ],
       "layout": {
        "legend": {
         "itemsizing": "constant",
         "tracegroupgap": 0
        },
        "template": {
         "data": {
          "bar": [
           {
            "error_x": {
             "color": "#2a3f5f"
            },
            "error_y": {
             "color": "#2a3f5f"
            },
            "marker": {
             "line": {
              "color": "white",
              "width": 0.5
             },
             "pattern": {
              "fillmode": "overlay",
              "size": 10,
              "solidity": 0.2
             }
            },
            "type": "bar"
           }
          ],
          "barpolar": [
           {
            "marker": {
             "line": {
              "color": "white",
              "width": 0.5
             },
             "pattern": {
              "fillmode": "overlay",
              "size": 10,
              "solidity": 0.2
             }
            },
            "type": "barpolar"
           }
          ],
          "carpet": [
           {
            "aaxis": {
             "endlinecolor": "#2a3f5f",
             "gridcolor": "#C8D4E3",
             "linecolor": "#C8D4E3",
             "minorgridcolor": "#C8D4E3",
             "startlinecolor": "#2a3f5f"
            },
            "baxis": {
             "endlinecolor": "#2a3f5f",
             "gridcolor": "#C8D4E3",
             "linecolor": "#C8D4E3",
             "minorgridcolor": "#C8D4E3",
             "startlinecolor": "#2a3f5f"
            },
            "type": "carpet"
           }
          ],
          "choropleth": [
           {
            "colorbar": {
             "outlinewidth": 0,
             "ticks": ""
            },
            "type": "choropleth"
           }
          ],
          "contour": [
           {
            "colorbar": {
             "outlinewidth": 0,
             "ticks": ""
            },
            "colorscale": [
             [
              0,
              "#0d0887"
             ],
             [
              0.1111111111111111,
              "#46039f"
             ],
             [
              0.2222222222222222,
              "#7201a8"
             ],
             [
              0.3333333333333333,
              "#9c179e"
             ],
             [
              0.4444444444444444,
              "#bd3786"
             ],
             [
              0.5555555555555556,
              "#d8576b"
             ],
             [
              0.6666666666666666,
              "#ed7953"
             ],
             [
              0.7777777777777778,
              "#fb9f3a"
             ],
             [
              0.8888888888888888,
              "#fdca26"
             ],
             [
              1,
              "#f0f921"
             ]
            ],
            "type": "contour"
           }
          ],
          "contourcarpet": [
           {
            "colorbar": {
             "outlinewidth": 0,
             "ticks": ""
            },
            "type": "contourcarpet"
           }
          ],
          "heatmap": [
           {
            "colorbar": {
             "outlinewidth": 0,
             "ticks": ""
            },
            "colorscale": [
             [
              0,
              "#0d0887"
             ],
             [
              0.1111111111111111,
              "#46039f"
             ],
             [
              0.2222222222222222,
              "#7201a8"
             ],
             [
              0.3333333333333333,
              "#9c179e"
             ],
             [
              0.4444444444444444,
              "#bd3786"
             ],
             [
              0.5555555555555556,
              "#d8576b"
             ],
             [
              0.6666666666666666,
              "#ed7953"
             ],
             [
              0.7777777777777778,
              "#fb9f3a"
             ],
             [
              0.8888888888888888,
              "#fdca26"
             ],
             [
              1,
              "#f0f921"
             ]
            ],
            "type": "heatmap"
           }
          ],
          "histogram": [
           {
            "marker": {
             "pattern": {
              "fillmode": "overlay",
              "size": 10,
              "solidity": 0.2
             }
            },
            "type": "histogram"
           }
          ],
          "histogram2d": [
           {
            "colorbar": {
             "outlinewidth": 0,
             "ticks": ""
            },
            "colorscale": [
             [
              0,
              "#0d0887"
             ],
             [
              0.1111111111111111,
              "#46039f"
             ],
             [
              0.2222222222222222,
              "#7201a8"
             ],
             [
              0.3333333333333333,
              "#9c179e"
             ],
             [
              0.4444444444444444,
              "#bd3786"
             ],
             [
              0.5555555555555556,
              "#d8576b"
             ],
             [
              0.6666666666666666,
              "#ed7953"
             ],
             [
              0.7777777777777778,
              "#fb9f3a"
             ],
             [
              0.8888888888888888,
              "#fdca26"
             ],
             [
              1,
              "#f0f921"
             ]
            ],
            "type": "histogram2d"
           }
          ],
          "histogram2dcontour": [
           {
            "colorbar": {
             "outlinewidth": 0,
             "ticks": ""
            },
            "colorscale": [
             [
              0,
              "#0d0887"
             ],
             [
              0.1111111111111111,
              "#46039f"
             ],
             [
              0.2222222222222222,
              "#7201a8"
             ],
             [
              0.3333333333333333,
              "#9c179e"
             ],
             [
              0.4444444444444444,
              "#bd3786"
             ],
             [
              0.5555555555555556,
              "#d8576b"
             ],
             [
              0.6666666666666666,
              "#ed7953"
             ],
             [
              0.7777777777777778,
              "#fb9f3a"
             ],
             [
              0.8888888888888888,
              "#fdca26"
             ],
             [
              1,
              "#f0f921"
             ]
            ],
            "type": "histogram2dcontour"
           }
          ],
          "mesh3d": [
           {
            "colorbar": {
             "outlinewidth": 0,
             "ticks": ""
            },
            "type": "mesh3d"
           }
          ],
          "parcoords": [
           {
            "line": {
             "colorbar": {
              "outlinewidth": 0,
              "ticks": ""
             }
            },
            "type": "parcoords"
           }
          ],
          "pie": [
           {
            "automargin": true,
            "type": "pie"
           }
          ],
          "scatter": [
           {
            "fillpattern": {
             "fillmode": "overlay",
             "size": 10,
             "solidity": 0.2
            },
            "type": "scatter"
           }
          ],
          "scatter3d": [
           {
            "line": {
             "colorbar": {
              "outlinewidth": 0,
              "ticks": ""
             }
            },
            "marker": {
             "colorbar": {
              "outlinewidth": 0,
              "ticks": ""
             }
            },
            "type": "scatter3d"
           }
          ],
          "scattercarpet": [
           {
            "marker": {
             "colorbar": {
              "outlinewidth": 0,
              "ticks": ""
             }
            },
            "type": "scattercarpet"
           }
          ],
          "scattergeo": [
           {
            "marker": {
             "colorbar": {
              "outlinewidth": 0,
              "ticks": ""
             }
            },
            "type": "scattergeo"
           }
          ],
          "scattergl": [
           {
            "marker": {
             "colorbar": {
              "outlinewidth": 0,
              "ticks": ""
             }
            },
            "type": "scattergl"
           }
          ],
          "scattermap": [
           {
            "marker": {
             "colorbar": {
              "outlinewidth": 0,
              "ticks": ""
             }
            },
            "type": "scattermap"
           }
          ],
          "scattermapbox": [
           {
            "marker": {
             "colorbar": {
              "outlinewidth": 0,
              "ticks": ""
             }
            },
            "type": "scattermapbox"
           }
          ],
          "scatterpolar": [
           {
            "marker": {
             "colorbar": {
              "outlinewidth": 0,
              "ticks": ""
             }
            },
            "type": "scatterpolar"
           }
          ],
          "scatterpolargl": [
           {
            "marker": {
             "colorbar": {
              "outlinewidth": 0,
              "ticks": ""
             }
            },
            "type": "scatterpolargl"
           }
          ],
          "scatterternary": [
           {
            "marker": {
             "colorbar": {
              "outlinewidth": 0,
              "ticks": ""
             }
            },
            "type": "scatterternary"
           }
          ],
          "surface": [
           {
            "colorbar": {
             "outlinewidth": 0,
             "ticks": ""
            },
            "colorscale": [
             [
              0,
              "#0d0887"
             ],
             [
              0.1111111111111111,
              "#46039f"
             ],
             [
              0.2222222222222222,
              "#7201a8"
             ],
             [
              0.3333333333333333,
              "#9c179e"
             ],
             [
              0.4444444444444444,
              "#bd3786"
             ],
             [
              0.5555555555555556,
              "#d8576b"
             ],
             [
              0.6666666666666666,
              "#ed7953"
             ],
             [
              0.7777777777777778,
              "#fb9f3a"
             ],
             [
              0.8888888888888888,
              "#fdca26"
             ],
             [
              1,
              "#f0f921"
             ]
            ],
            "type": "surface"
           }
          ],
          "table": [
           {
            "cells": {
             "fill": {
              "color": "#EBF0F8"
             },
             "line": {
              "color": "white"
             }
            },
            "header": {
             "fill": {
              "color": "#C8D4E3"
             },
             "line": {
              "color": "white"
             }
            },
            "type": "table"
           }
          ]
         },
         "layout": {
          "annotationdefaults": {
           "arrowcolor": "#2a3f5f",
           "arrowhead": 0,
           "arrowwidth": 1
          },
          "autotypenumbers": "strict",
          "coloraxis": {
           "colorbar": {
            "outlinewidth": 0,
            "ticks": ""
           }
          },
          "colorscale": {
           "diverging": [
            [
             0,
             "#8e0152"
            ],
            [
             0.1,
             "#c51b7d"
            ],
            [
             0.2,
             "#de77ae"
            ],
            [
             0.3,
             "#f1b6da"
            ],
            [
             0.4,
             "#fde0ef"
            ],
            [
             0.5,
             "#f7f7f7"
            ],
            [
             0.6,
             "#e6f5d0"
            ],
            [
             0.7,
             "#b8e186"
            ],
            [
             0.8,
             "#7fbc41"
            ],
            [
             0.9,
             "#4d9221"
            ],
            [
             1,
             "#276419"
            ]
           ],
           "sequential": [
            [
             0,
             "#0d0887"
            ],
            [
             0.1111111111111111,
             "#46039f"
            ],
            [
             0.2222222222222222,
             "#7201a8"
            ],
            [
             0.3333333333333333,
             "#9c179e"
            ],
            [
             0.4444444444444444,
             "#bd3786"
            ],
            [
             0.5555555555555556,
             "#d8576b"
            ],
            [
             0.6666666666666666,
             "#ed7953"
            ],
            [
             0.7777777777777778,
             "#fb9f3a"
            ],
            [
             0.8888888888888888,
             "#fdca26"
            ],
            [
             1,
             "#f0f921"
            ]
           ],
           "sequentialminus": [
            [
             0,
             "#0d0887"
            ],
            [
             0.1111111111111111,
             "#46039f"
            ],
            [
             0.2222222222222222,
             "#7201a8"
            ],
            [
             0.3333333333333333,
             "#9c179e"
            ],
            [
             0.4444444444444444,
             "#bd3786"
            ],
            [
             0.5555555555555556,
             "#d8576b"
            ],
            [
             0.6666666666666666,
             "#ed7953"
            ],
            [
             0.7777777777777778,
             "#fb9f3a"
            ],
            [
             0.8888888888888888,
             "#fdca26"
            ],
            [
             1,
             "#f0f921"
            ]
           ]
          },
          "colorway": [
           "#636efa",
           "#EF553B",
           "#00cc96",
           "#ab63fa",
           "#FFA15A",
           "#19d3f3",
           "#FF6692",
           "#B6E880",
           "#FF97FF",
           "#FECB52"
          ],
          "font": {
           "color": "#2a3f5f"
          },
          "geo": {
           "bgcolor": "white",
           "lakecolor": "white",
           "landcolor": "white",
           "showlakes": true,
           "showland": true,
           "subunitcolor": "#C8D4E3"
          },
          "hoverlabel": {
           "align": "left"
          },
          "hovermode": "closest",
          "mapbox": {
           "style": "light"
          },
          "paper_bgcolor": "white",
          "plot_bgcolor": "white",
          "polar": {
           "angularaxis": {
            "gridcolor": "#EBF0F8",
            "linecolor": "#EBF0F8",
            "ticks": ""
           },
           "bgcolor": "white",
           "radialaxis": {
            "gridcolor": "#EBF0F8",
            "linecolor": "#EBF0F8",
            "ticks": ""
           }
          },
          "scene": {
           "xaxis": {
            "backgroundcolor": "white",
            "gridcolor": "#DFE8F3",
            "gridwidth": 2,
            "linecolor": "#EBF0F8",
            "showbackground": true,
            "ticks": "",
            "zerolinecolor": "#EBF0F8"
           },
           "yaxis": {
            "backgroundcolor": "white",
            "gridcolor": "#DFE8F3",
            "gridwidth": 2,
            "linecolor": "#EBF0F8",
            "showbackground": true,
            "ticks": "",
            "zerolinecolor": "#EBF0F8"
           },
           "zaxis": {
            "backgroundcolor": "white",
            "gridcolor": "#DFE8F3",
            "gridwidth": 2,
            "linecolor": "#EBF0F8",
            "showbackground": true,
            "ticks": "",
            "zerolinecolor": "#EBF0F8"
           }
          },
          "shapedefaults": {
           "line": {
            "color": "#2a3f5f"
           }
          },
          "ternary": {
           "aaxis": {
            "gridcolor": "#DFE8F3",
            "linecolor": "#A2B1C6",
            "ticks": ""
           },
           "baxis": {
            "gridcolor": "#DFE8F3",
            "linecolor": "#A2B1C6",
            "ticks": ""
           },
           "bgcolor": "white",
           "caxis": {
            "gridcolor": "#DFE8F3",
            "linecolor": "#A2B1C6",
            "ticks": ""
           }
          },
          "title": {
           "x": 0.05
          },
          "xaxis": {
           "automargin": true,
           "gridcolor": "#EBF0F8",
           "linecolor": "#EBF0F8",
           "ticks": "",
           "title": {
            "standoff": 15
           },
           "zerolinecolor": "#EBF0F8",
           "zerolinewidth": 2
          },
          "yaxis": {
           "automargin": true,
           "gridcolor": "#EBF0F8",
           "linecolor": "#EBF0F8",
           "ticks": "",
           "title": {
            "standoff": 15
           },
           "zerolinecolor": "#EBF0F8",
           "zerolinewidth": 2
          }
         }
        },
        "title": {
         "text": "Word Embedding Visualization (PCA)"
        },
        "xaxis": {
         "anchor": "y",
         "domain": [
          0,
          1
         ],
         "title": {
          "text": "x0"
         }
        },
        "yaxis": {
         "anchor": "x",
         "domain": [
          0,
          1
         ],
         "title": {
          "text": "x1"
         }
        }
       }
      }
     },
     "metadata": {},
     "output_type": "display_data"
    }
   ],
   "source": [
    "# Extract the embedding layer weights\n",
    "embedding_weights = lyrics_model.embedding.weight.data.cpu().numpy()\n",
    "\n",
    "# Get vocabulary from tokenizer\n",
    "vocab = list(tokenizer.vocab.keys())\n",
    "\n",
    "# Use PCA to reduce dimensions for visualization\n",
    "from sklearn.decomposition import PCA\n",
    "pca = PCA(n_components=2)\n",
    "embedding_pca = pca.fit_transform(embedding_weights)\n",
    "\n",
    "embedding_df = pd.DataFrame({\n",
    "    'word': vocab,\n",
    "    'x0': embedding_pca[:, 0],\n",
    "    'x1': embedding_pca[:, 1]\n",
    "})\n",
    "\n",
    "fig = px.scatter(\n",
    "    embedding_df.sample(300),\n",
    "    x=\"x0\",\n",
    "    y=\"x1\",\n",
    "    size=[0.1] * len(embedding_df.sample(300)),\n",
    "    hover_name=\"word\",\n",
    "    title=\"Word Embedding Visualization\",\n",
    ")\n",
    "\n",
    "fig.show()"
   ]
  },
  {
   "cell_type": "markdown",
   "metadata": {},
   "source": [
    "This visualization shows how the model organizes vocabulary words in a semantic space. While we don't see distinct, well-separated clusters, the distribution pattern suggests the model has captured subtle relationships between words. The spread of points indicates varied semantic relationships, with most words concentrated in the central region and some outliers at the periphery.\n",
    "\n",
    "This representation forms the foundation of how our lyrics-based model understands relationships between concepts. The somewhat diffuse nature of the embedding space aligns with our earlier finding that lyrics alone (31% accuracy) provide less genre-predictive power than audio features.\n"
   ]
  },
  {
   "cell_type": "markdown",
   "metadata": {},
   "source": [
    "Then lets examine if embedding distances reflect meaningful genre relationships."
   ]
  },
  {
   "cell_type": "code",
   "execution_count": 104,
   "metadata": {},
   "outputs": [
    {
     "data": {
      "application/vnd.plotly.v1+json": {
       "config": {
        "plotlyServerURL": "https://plot.ly"
       },
       "data": [
        {
         "hovertemplate": "<b>%{hovertext}</b><br><br>x0=%{x}<br>x1=%{y}<br>word=%{text}<extra></extra>",
         "hovertext": [
          "club",
          "rock",
          "dance",
          "metal",
          "pop",
          "jazz",
          "hip",
          "blues",
          "hop",
          "rap"
         ],
         "legendgroup": "",
         "marker": {
          "color": "#636efa",
          "opacity": 0.8,
          "size": 10,
          "symbol": "circle"
         },
         "mode": "markers+text",
         "name": "",
         "orientation": "v",
         "showlegend": false,
         "text": [
          "club",
          "rock",
          "dance",
          "metal",
          "pop",
          "jazz",
          "hip",
          "blues",
          "hop",
          "rap"
         ],
         "textfont": {
          "size": 10
         },
         "textposition": "top center",
         "type": "scatter",
         "x": {
          "bdata": "wcXLPoDJ7j/HOm0/oiPQPyqBC0BtXI++RHBHP6/YZz9gv9q+B8KjPw==",
          "dtype": "f4"
         },
         "xaxis": "x",
         "y": {
          "bdata": "z9WKPmVoGr/DY9G+mwyVPyiliD/NEbC/nsXLPjf3Aj/38qI+sDKOvw==",
          "dtype": "f4"
         },
         "yaxis": "y"
        }
       ],
       "layout": {
        "height": 500,
        "legend": {
         "tracegroupgap": 0
        },
        "template": {
         "data": {
          "bar": [
           {
            "error_x": {
             "color": "#2a3f5f"
            },
            "error_y": {
             "color": "#2a3f5f"
            },
            "marker": {
             "line": {
              "color": "white",
              "width": 0.5
             },
             "pattern": {
              "fillmode": "overlay",
              "size": 10,
              "solidity": 0.2
             }
            },
            "type": "bar"
           }
          ],
          "barpolar": [
           {
            "marker": {
             "line": {
              "color": "white",
              "width": 0.5
             },
             "pattern": {
              "fillmode": "overlay",
              "size": 10,
              "solidity": 0.2
             }
            },
            "type": "barpolar"
           }
          ],
          "carpet": [
           {
            "aaxis": {
             "endlinecolor": "#2a3f5f",
             "gridcolor": "#C8D4E3",
             "linecolor": "#C8D4E3",
             "minorgridcolor": "#C8D4E3",
             "startlinecolor": "#2a3f5f"
            },
            "baxis": {
             "endlinecolor": "#2a3f5f",
             "gridcolor": "#C8D4E3",
             "linecolor": "#C8D4E3",
             "minorgridcolor": "#C8D4E3",
             "startlinecolor": "#2a3f5f"
            },
            "type": "carpet"
           }
          ],
          "choropleth": [
           {
            "colorbar": {
             "outlinewidth": 0,
             "ticks": ""
            },
            "type": "choropleth"
           }
          ],
          "contour": [
           {
            "colorbar": {
             "outlinewidth": 0,
             "ticks": ""
            },
            "colorscale": [
             [
              0,
              "#0d0887"
             ],
             [
              0.1111111111111111,
              "#46039f"
             ],
             [
              0.2222222222222222,
              "#7201a8"
             ],
             [
              0.3333333333333333,
              "#9c179e"
             ],
             [
              0.4444444444444444,
              "#bd3786"
             ],
             [
              0.5555555555555556,
              "#d8576b"
             ],
             [
              0.6666666666666666,
              "#ed7953"
             ],
             [
              0.7777777777777778,
              "#fb9f3a"
             ],
             [
              0.8888888888888888,
              "#fdca26"
             ],
             [
              1,
              "#f0f921"
             ]
            ],
            "type": "contour"
           }
          ],
          "contourcarpet": [
           {
            "colorbar": {
             "outlinewidth": 0,
             "ticks": ""
            },
            "type": "contourcarpet"
           }
          ],
          "heatmap": [
           {
            "colorbar": {
             "outlinewidth": 0,
             "ticks": ""
            },
            "colorscale": [
             [
              0,
              "#0d0887"
             ],
             [
              0.1111111111111111,
              "#46039f"
             ],
             [
              0.2222222222222222,
              "#7201a8"
             ],
             [
              0.3333333333333333,
              "#9c179e"
             ],
             [
              0.4444444444444444,
              "#bd3786"
             ],
             [
              0.5555555555555556,
              "#d8576b"
             ],
             [
              0.6666666666666666,
              "#ed7953"
             ],
             [
              0.7777777777777778,
              "#fb9f3a"
             ],
             [
              0.8888888888888888,
              "#fdca26"
             ],
             [
              1,
              "#f0f921"
             ]
            ],
            "type": "heatmap"
           }
          ],
          "histogram": [
           {
            "marker": {
             "pattern": {
              "fillmode": "overlay",
              "size": 10,
              "solidity": 0.2
             }
            },
            "type": "histogram"
           }
          ],
          "histogram2d": [
           {
            "colorbar": {
             "outlinewidth": 0,
             "ticks": ""
            },
            "colorscale": [
             [
              0,
              "#0d0887"
             ],
             [
              0.1111111111111111,
              "#46039f"
             ],
             [
              0.2222222222222222,
              "#7201a8"
             ],
             [
              0.3333333333333333,
              "#9c179e"
             ],
             [
              0.4444444444444444,
              "#bd3786"
             ],
             [
              0.5555555555555556,
              "#d8576b"
             ],
             [
              0.6666666666666666,
              "#ed7953"
             ],
             [
              0.7777777777777778,
              "#fb9f3a"
             ],
             [
              0.8888888888888888,
              "#fdca26"
             ],
             [
              1,
              "#f0f921"
             ]
            ],
            "type": "histogram2d"
           }
          ],
          "histogram2dcontour": [
           {
            "colorbar": {
             "outlinewidth": 0,
             "ticks": ""
            },
            "colorscale": [
             [
              0,
              "#0d0887"
             ],
             [
              0.1111111111111111,
              "#46039f"
             ],
             [
              0.2222222222222222,
              "#7201a8"
             ],
             [
              0.3333333333333333,
              "#9c179e"
             ],
             [
              0.4444444444444444,
              "#bd3786"
             ],
             [
              0.5555555555555556,
              "#d8576b"
             ],
             [
              0.6666666666666666,
              "#ed7953"
             ],
             [
              0.7777777777777778,
              "#fb9f3a"
             ],
             [
              0.8888888888888888,
              "#fdca26"
             ],
             [
              1,
              "#f0f921"
             ]
            ],
            "type": "histogram2dcontour"
           }
          ],
          "mesh3d": [
           {
            "colorbar": {
             "outlinewidth": 0,
             "ticks": ""
            },
            "type": "mesh3d"
           }
          ],
          "parcoords": [
           {
            "line": {
             "colorbar": {
              "outlinewidth": 0,
              "ticks": ""
             }
            },
            "type": "parcoords"
           }
          ],
          "pie": [
           {
            "automargin": true,
            "type": "pie"
           }
          ],
          "scatter": [
           {
            "fillpattern": {
             "fillmode": "overlay",
             "size": 10,
             "solidity": 0.2
            },
            "type": "scatter"
           }
          ],
          "scatter3d": [
           {
            "line": {
             "colorbar": {
              "outlinewidth": 0,
              "ticks": ""
             }
            },
            "marker": {
             "colorbar": {
              "outlinewidth": 0,
              "ticks": ""
             }
            },
            "type": "scatter3d"
           }
          ],
          "scattercarpet": [
           {
            "marker": {
             "colorbar": {
              "outlinewidth": 0,
              "ticks": ""
             }
            },
            "type": "scattercarpet"
           }
          ],
          "scattergeo": [
           {
            "marker": {
             "colorbar": {
              "outlinewidth": 0,
              "ticks": ""
             }
            },
            "type": "scattergeo"
           }
          ],
          "scattergl": [
           {
            "marker": {
             "colorbar": {
              "outlinewidth": 0,
              "ticks": ""
             }
            },
            "type": "scattergl"
           }
          ],
          "scattermap": [
           {
            "marker": {
             "colorbar": {
              "outlinewidth": 0,
              "ticks": ""
             }
            },
            "type": "scattermap"
           }
          ],
          "scattermapbox": [
           {
            "marker": {
             "colorbar": {
              "outlinewidth": 0,
              "ticks": ""
             }
            },
            "type": "scattermapbox"
           }
          ],
          "scatterpolar": [
           {
            "marker": {
             "colorbar": {
              "outlinewidth": 0,
              "ticks": ""
             }
            },
            "type": "scatterpolar"
           }
          ],
          "scatterpolargl": [
           {
            "marker": {
             "colorbar": {
              "outlinewidth": 0,
              "ticks": ""
             }
            },
            "type": "scatterpolargl"
           }
          ],
          "scatterternary": [
           {
            "marker": {
             "colorbar": {
              "outlinewidth": 0,
              "ticks": ""
             }
            },
            "type": "scatterternary"
           }
          ],
          "surface": [
           {
            "colorbar": {
             "outlinewidth": 0,
             "ticks": ""
            },
            "colorscale": [
             [
              0,
              "#0d0887"
             ],
             [
              0.1111111111111111,
              "#46039f"
             ],
             [
              0.2222222222222222,
              "#7201a8"
             ],
             [
              0.3333333333333333,
              "#9c179e"
             ],
             [
              0.4444444444444444,
              "#bd3786"
             ],
             [
              0.5555555555555556,
              "#d8576b"
             ],
             [
              0.6666666666666666,
              "#ed7953"
             ],
             [
              0.7777777777777778,
              "#fb9f3a"
             ],
             [
              0.8888888888888888,
              "#fdca26"
             ],
             [
              1,
              "#f0f921"
             ]
            ],
            "type": "surface"
           }
          ],
          "table": [
           {
            "cells": {
             "fill": {
              "color": "#EBF0F8"
             },
             "line": {
              "color": "white"
             }
            },
            "header": {
             "fill": {
              "color": "#C8D4E3"
             },
             "line": {
              "color": "white"
             }
            },
            "type": "table"
           }
          ]
         },
         "layout": {
          "annotationdefaults": {
           "arrowcolor": "#2a3f5f",
           "arrowhead": 0,
           "arrowwidth": 1
          },
          "autotypenumbers": "strict",
          "coloraxis": {
           "colorbar": {
            "outlinewidth": 0,
            "ticks": ""
           }
          },
          "colorscale": {
           "diverging": [
            [
             0,
             "#8e0152"
            ],
            [
             0.1,
             "#c51b7d"
            ],
            [
             0.2,
             "#de77ae"
            ],
            [
             0.3,
             "#f1b6da"
            ],
            [
             0.4,
             "#fde0ef"
            ],
            [
             0.5,
             "#f7f7f7"
            ],
            [
             0.6,
             "#e6f5d0"
            ],
            [
             0.7,
             "#b8e186"
            ],
            [
             0.8,
             "#7fbc41"
            ],
            [
             0.9,
             "#4d9221"
            ],
            [
             1,
             "#276419"
            ]
           ],
           "sequential": [
            [
             0,
             "#0d0887"
            ],
            [
             0.1111111111111111,
             "#46039f"
            ],
            [
             0.2222222222222222,
             "#7201a8"
            ],
            [
             0.3333333333333333,
             "#9c179e"
            ],
            [
             0.4444444444444444,
             "#bd3786"
            ],
            [
             0.5555555555555556,
             "#d8576b"
            ],
            [
             0.6666666666666666,
             "#ed7953"
            ],
            [
             0.7777777777777778,
             "#fb9f3a"
            ],
            [
             0.8888888888888888,
             "#fdca26"
            ],
            [
             1,
             "#f0f921"
            ]
           ],
           "sequentialminus": [
            [
             0,
             "#0d0887"
            ],
            [
             0.1111111111111111,
             "#46039f"
            ],
            [
             0.2222222222222222,
             "#7201a8"
            ],
            [
             0.3333333333333333,
             "#9c179e"
            ],
            [
             0.4444444444444444,
             "#bd3786"
            ],
            [
             0.5555555555555556,
             "#d8576b"
            ],
            [
             0.6666666666666666,
             "#ed7953"
            ],
            [
             0.7777777777777778,
             "#fb9f3a"
            ],
            [
             0.8888888888888888,
             "#fdca26"
            ],
            [
             1,
             "#f0f921"
            ]
           ]
          },
          "colorway": [
           "#636efa",
           "#EF553B",
           "#00cc96",
           "#ab63fa",
           "#FFA15A",
           "#19d3f3",
           "#FF6692",
           "#B6E880",
           "#FF97FF",
           "#FECB52"
          ],
          "font": {
           "color": "#2a3f5f"
          },
          "geo": {
           "bgcolor": "white",
           "lakecolor": "white",
           "landcolor": "white",
           "showlakes": true,
           "showland": true,
           "subunitcolor": "#C8D4E3"
          },
          "hoverlabel": {
           "align": "left"
          },
          "hovermode": "closest",
          "mapbox": {
           "style": "light"
          },
          "paper_bgcolor": "white",
          "plot_bgcolor": "white",
          "polar": {
           "angularaxis": {
            "gridcolor": "#EBF0F8",
            "linecolor": "#EBF0F8",
            "ticks": ""
           },
           "bgcolor": "white",
           "radialaxis": {
            "gridcolor": "#EBF0F8",
            "linecolor": "#EBF0F8",
            "ticks": ""
           }
          },
          "scene": {
           "xaxis": {
            "backgroundcolor": "white",
            "gridcolor": "#DFE8F3",
            "gridwidth": 2,
            "linecolor": "#EBF0F8",
            "showbackground": true,
            "ticks": "",
            "zerolinecolor": "#EBF0F8"
           },
           "yaxis": {
            "backgroundcolor": "white",
            "gridcolor": "#DFE8F3",
            "gridwidth": 2,
            "linecolor": "#EBF0F8",
            "showbackground": true,
            "ticks": "",
            "zerolinecolor": "#EBF0F8"
           },
           "zaxis": {
            "backgroundcolor": "white",
            "gridcolor": "#DFE8F3",
            "gridwidth": 2,
            "linecolor": "#EBF0F8",
            "showbackground": true,
            "ticks": "",
            "zerolinecolor": "#EBF0F8"
           }
          },
          "shapedefaults": {
           "line": {
            "color": "#2a3f5f"
           }
          },
          "ternary": {
           "aaxis": {
            "gridcolor": "#DFE8F3",
            "linecolor": "#A2B1C6",
            "ticks": ""
           },
           "baxis": {
            "gridcolor": "#DFE8F3",
            "linecolor": "#A2B1C6",
            "ticks": ""
           },
           "bgcolor": "white",
           "caxis": {
            "gridcolor": "#DFE8F3",
            "linecolor": "#A2B1C6",
            "ticks": ""
           }
          },
          "title": {
           "x": 0.05
          },
          "xaxis": {
           "automargin": true,
           "gridcolor": "#EBF0F8",
           "linecolor": "#EBF0F8",
           "ticks": "",
           "title": {
            "standoff": 15
           },
           "zerolinecolor": "#EBF0F8",
           "zerolinewidth": 2
          },
          "yaxis": {
           "automargin": true,
           "gridcolor": "#EBF0F8",
           "linecolor": "#EBF0F8",
           "ticks": "",
           "title": {
            "standoff": 15
           },
           "zerolinecolor": "#EBF0F8",
           "zerolinewidth": 2
          }
         }
        },
        "title": {
         "text": "Music Genre Words in Embedding Space"
        },
        "width": 700,
        "xaxis": {
         "anchor": "y",
         "domain": [
          0,
          1
         ],
         "title": {
          "text": "x0"
         }
        },
        "yaxis": {
         "anchor": "x",
         "domain": [
          0,
          1
         ],
         "title": {
          "text": "x1"
         }
        }
       }
      }
     },
     "metadata": {},
     "output_type": "display_data"
    }
   ],
   "source": [
    "words = ['rock', 'pop', 'hip', 'hop', 'rap', 'dance', 'club', 'metal', 'jazz', 'blues']\n",
    "# Filter for words\n",
    "cluster_df = embedding_df[embedding_df['word'].isin(words)].copy()\n",
    "\n",
    "if len(cluster_df) < len(words):\n",
    "    missing = set(words) - set(cluster_df['word'].values)\n",
    "    print(f\"Warning: Some words not found in vocabulary: {missing}\")\n",
    "\n",
    "fig = px.scatter(\n",
    "    cluster_df,\n",
    "    x='x0', \n",
    "    y='x1',\n",
    "    text='word',\n",
    "    hover_name='word',\n",
    "    title=\"Music Genre Words in Embedding Space\",\n",
    "    labels={'x': 'PC1', 'y': 'PC2'},\n",
    "    height=500,\n",
    "    width=700\n",
    ")\n",
    "\n",
    "fig.update_traces(\n",
    "    marker=dict(size=10, opacity=0.8),\n",
    "    textposition='top center',\n",
    "    textfont=dict(size=10)\n",
    ")\n",
    "\n",
    "fig.show()"
   ]
  },
  {
   "cell_type": "markdown",
   "metadata": {},
   "source": [
    "The model has organized genre terms in a semantically meaningful embedding space that reveals conceptual relationships between musical categories. A distinct separation exists between electronic/dance music terminology (\"club\", \"dance\") and traditional genres like \"jazz\" (isolated in the lower left), showing how the model captures their acoustic and cultural differences. "
   ]
  },
  {
   "cell_type": "markdown",
   "metadata": {},
   "source": [
    "## 5. Conclusion"
   ]
  },
  {
   "cell_type": "markdown",
   "metadata": {},
   "source": [
    "In this music genre classification project, we've demonstrated that neural networks can effectively learn the complex patterns that distinguish musical genres. Our models achieved significant improvements over the baseline, with the Combined model (42-43% accuracy) outperforming both the Features-only (37%) and Lyrics-only (31%) approaches. This confirms our hypothesis that both lyrical content and acoustic characteristics contribute meaningful but distinct information to genre identity. The word embedding visualizations revealed how our model organizes music concepts in semantic space, capturing relationships between genres that align with musical intuition. While genre boundaries remain inherently fluid, our computational approach offers valuable insights into the linguistic and acoustic patterns that define musical categories."
   ]
  }
 ],
 "metadata": {
  "kernelspec": {
   "display_name": "ml-0451",
   "language": "python",
   "name": "python3"
  },
  "language_info": {
   "codemirror_mode": {
    "name": "ipython",
    "version": 3
   },
   "file_extension": ".py",
   "mimetype": "text/x-python",
   "name": "python",
   "nbconvert_exporter": "python",
   "pygments_lexer": "ipython3",
   "version": "3.9.21"
  }
 },
 "nbformat": 4,
 "nbformat_minor": 4
}
